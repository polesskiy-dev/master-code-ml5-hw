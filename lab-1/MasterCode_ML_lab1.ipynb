{
 "cells": [
  {
   "cell_type": "markdown",
   "metadata": {},
   "source": [
    "## Лабораторная работа 1.\n",
    "\n",
    "## Знакомство с библиотеками для анализа данных: numpy, scipy, matplotlib"
   ]
  },
  {
   "cell_type": "markdown",
   "metadata": {},
   "source": [
    "Первая часть - знакомство с numpy. Перед выполнением заданий ознакомьтесь с документацией(http://www.numpy.org)\n",
    "\n",
    "Решение каждой задачи подразумевает написание функции на языке Python, а так же примеры работы это функции. \n",
    "При реализации нужно использовать методы из библиотеки. Рекомендуется выполнить все задания по минимуму используя циклы. \n",
    "\n",
    "Под матрицей в заданиях понимается двумерный [numpy.array](https://docs.scipy.org/doc/numpy/reference/generated/numpy.array.html)\n",
    "\n",
    "Для подключения модуля воспользуйтесь следующей строкой. Используйте стандартное сокращение np."
   ]
  },
  {
   "cell_type": "code",
   "execution_count": 4,
   "metadata": {
    "collapsed": true
   },
   "outputs": [],
   "source": [
    "import numpy as np"
   ]
  },
  {
   "cell_type": "markdown",
   "metadata": {},
   "source": [
    "Пример создания одномерного и двумерного массивов методами numpy "
   ]
  },
  {
   "cell_type": "code",
   "execution_count": 5,
   "metadata": {},
   "outputs": [
    {
     "name": "stdout",
     "output_type": "stream",
     "text": [
      "[1. 2. 3.]\n"
     ]
    }
   ],
   "source": [
    "X1d = np.array([1, 2, 3], dtype=np.float64)\n",
    "print(X1d)"
   ]
  },
  {
   "cell_type": "code",
   "execution_count": 6,
   "metadata": {},
   "outputs": [
    {
     "name": "stdout",
     "output_type": "stream",
     "text": [
      "[[1. 2.]\n [3. 4.]]\n"
     ]
    }
   ],
   "source": [
    "X2d = np.array([[1, 2],\n",
    "                [3, 4]], dtype=np.float)\n",
    "print(X2d)"
   ]
  },
  {
   "cell_type": "markdown",
   "metadata": {},
   "source": [
    "** Задача 1. ** Напишите функцию принимающую на вход 3 массива - ```A```, ```B```, ```C```. Функция должна возвращать ** True ** - если они равны и ** False ** иначе. Рекомендуется ** не ** использовать оператор ==."
   ]
  },
  {
   "cell_type": "code",
   "execution_count": 10,
   "metadata": {
    "collapsed": true
   },
   "outputs": [],
   "source": [
    "def is_equal(A, B, C):\n",
    "    return np.array_equal(A, B) and np.array_equal(B, C)"
   ]
  },
  {
   "cell_type": "markdown",
   "metadata": {},
   "source": [
    " ** Задание 2. ** Реализуйте функцию, принимающую на вход матрицу ```X``` и некоторое число ```a``` и возвращающую ближайший к числу элемент матрицы.\n",
    "\n",
    "Например, для ```X = np.arange(0,20).reshape((4, 5))``` и ```a = 7.7``` ответом будет 8."
   ]
  },
  {
   "cell_type": "code",
   "execution_count": 33,
   "metadata": {
    "collapsed": true
   },
   "outputs": [
    {
     "name": "stdout",
     "output_type": "stream",
     "text": [
      "0.5\n"
     ]
    }
   ],
   "source": [
    "def near_val(X, a):\n",
    "    return min(map(lambda x: x - a, X.flatten()), key=abs) + a\n",
    "\n",
    "print(near_val(np.arange(-8.5, 3.5).reshape(2, 6), 0.1))"
   ]
  },
  {
   "cell_type": "markdown",
   "metadata": {},
   "source": [
    "** Задача 3. ** Напишите функцию принимающую вектор строку и возвращающую вектор столбец. В этом задании **запрещается** пользоваться операцией транспонирования и рекомедуется воспользоваться методом [reshape](https://docs.scipy.org/doc/numpy-1.13.0/reference/generated/numpy.reshape.html)."
   ]
  },
  {
   "cell_type": "code",
   "execution_count": 46,
   "metadata": {
    "collapsed": true
   },
   "outputs": [
    {
     "name": "stdout",
     "output_type": "stream",
     "text": [
      "[[0]\n [1]\n [2]\n [3]\n [4]\n [5]]\n"
     ]
    }
   ],
   "source": [
    "def rot_vec(x):\n",
    "    return np.reshape(x, (len(x), 1))\n",
    "\n",
    "print(rot_vec(np.arange(6)))"
   ]
  },
  {
   "cell_type": "markdown",
   "metadata": {},
   "source": [
    "** Задача 4. ** Напишите функцию принимающую на вход двумерный массив, а возвращающую массив с диагональными элементами этой матрицы. Пример: ```[[1, 2], [3, 4]] -> [1 4]```"
   ]
  },
  {
   "cell_type": "code",
   "execution_count": 48,
   "metadata": {},
   "outputs": [
    {
     "name": "stdout",
     "output_type": "stream",
     "text": [
      "[1 4]\n"
     ]
    }
   ],
   "source": [
    "def get_diag(X):\n",
    "    return X.diagonal()\n",
    "\n",
    "print(get_diag(np.array([[1,2], [3,4]])))"
   ]
  },
  {
   "cell_type": "markdown",
   "metadata": {},
   "source": [
    "** Задача 5. ** Найдите среденее значение всех не нулевых элементов стоящих на главной диагонали матрицы. "
   ]
  },
  {
   "cell_type": "code",
   "execution_count": 53,
   "metadata": {
    "collapsed": true
   },
   "outputs": [
    {
     "name": "stdout",
     "output_type": "stream",
     "text": [
      "6.0\n"
     ]
    }
   ],
   "source": [
    "def mean_diag(X):\n",
    "    return np.mean(filter(lambda x: x != 0, X.diagonal()))\n",
    "\n",
    "print(mean_diag(np.arange(9).reshape(3, 3)))"
   ]
  },
  {
   "cell_type": "markdown",
   "metadata": {},
   "source": [
    "** Задача 6. ** Напишите функцию принимающую на вход двумерный массив, а возвращающую массив элементов находящихся на второстепенной диагонали. Пример: ```[[1, 2], [3, 4]] -> [2 3]```"
   ]
  },
  {
   "cell_type": "code",
   "execution_count": 61,
   "metadata": {
    "collapsed": true
   },
   "outputs": [
    {
     "name": "stdout",
     "output_type": "stream",
     "text": [
      "[2 4 6]\n"
     ]
    }
   ],
   "source": [
    "def sec_diag(X):\n",
    "    return np.fliplr(X).diagonal()\n",
    "\n",
    "print(sec_diag(np.arange(9).reshape(3, 3)))"
   ]
  },
  {
   "cell_type": "markdown",
   "metadata": {},
   "source": [
    "** Задача 7. ** Функци принимает двумерный квадратный массив. Найдите [след матрицы](https://ru.wikipedia.org/wiki/След_матрицы). Используйте ** только ** функции из numpy!"
   ]
  },
  {
   "cell_type": "code",
   "execution_count": 63,
   "metadata": {
    "collapsed": true
   },
   "outputs": [
    {
     "name": "stdout",
     "output_type": "stream",
     "text": [
      "3\n"
     ]
    }
   ],
   "source": [
    "def tr(X):\n",
    "    return X.diagonal().sum()\n",
    "\n",
    "print(tr(np.arange(4).reshape(2, 2)))"
   ]
  },
  {
   "cell_type": "markdown",
   "metadata": {},
   "source": [
    "** Задача 8. ** На вход вы получаете массив чисел. Функция должна вернуть матрицу состоящую из элементов данного массива, размером максимально приближенным к квадрату. Возможно Вам понадобятся циклы. \n",
    "\n",
    "Пример ```[1, 2, 3, 4] -> [[1, 2], [3, 4]]```"
   ]
  },
  {
   "cell_type": "code",
   "execution_count": 17,
   "metadata": {
    "collapsed": true
   },
   "outputs": [],
   "source": [
    "def make_sq(A):\n",
    "    pass"
   ]
  },
  {
   "cell_type": "markdown",
   "metadata": {},
   "source": [
    "** Задача 9. **Реализуйте функцию, принимающую на вход матрицу ```X```. Удалите из неё все дубликаты строчек. "
   ]
  },
  {
   "cell_type": "markdown",
   "metadata": {},
   "source": [
    "Пример ```[[1 0], [0 1], [1 0]] -> [[1 0], [0 1]] ```"
   ]
  },
  {
   "cell_type": "code",
   "execution_count": null,
   "metadata": {
    "collapsed": true
   },
   "outputs": [],
   "source": [
    "def del_dublicates(X):\n",
    "    pass"
   ]
  },
  {
   "cell_type": "markdown",
   "metadata": {},
   "source": [
    "** Задача 10. ** Реализуйте функцию, принимающую на вход вектор ```X```.  Вставьте между всеми числами число 42.0\n",
    "\n",
    "Пример ```[1, 2, 3, 4, 5] -> [1, 42, 2, 42, 3, 42, 4, 42, 5]```"
   ]
  },
  {
   "cell_type": "code",
   "execution_count": null,
   "metadata": {
    "collapsed": true
   },
   "outputs": [],
   "source": [
    "def insert_42(X):\n",
    "    pass"
   ]
  }
 ],
 "metadata": {
  "kernelspec": {
   "display_name": "Python 3",
   "language": "python",
   "name": "python3"
  },
  "language_info": {
   "codemirror_mode": {
    "name": "ipython",
    "version": 3
   },
   "file_extension": ".py",
   "mimetype": "text/x-python",
   "name": "python",
   "nbconvert_exporter": "python",
   "pygments_lexer": "ipython3",
   "version": "3.6.3"
  }
 },
 "nbformat": 4,
 "nbformat_minor": 2
}
